{
 "cells": [
  {
   "cell_type": "code",
   "execution_count": 4,
   "metadata": {},
   "outputs": [],
   "source": [
    "import pandas as pd\n",
    "import numpy as np\n",
    "import matplotlib.pyplot as plt\n",
    "import seaborn as sns\n",
    "from sklearn import preprocessing\n",
    "from sklearn.model_selection import train_test_split\n",
    "from sklearn.model_selection import GridSearchCV\n",
    "from sklearn.linear_model import LogisticRegression\n",
    "from sklearn.svm import SVC\n",
    "from sklearn.tree import DecisionTreeClassifier\n",
    "from sklearn.neighbors import KNeighborsClassifier\n",
    "from sklearn.metrics import ConfusionMatrixDisplay\n",
    "\n",
    "\n",
    "\n",
    "def plot_confusion_matrix(y, y_predict):\n",
    "    \"this function plots the confusion matrix\"\n",
    "    from sklearn.metrics import confusion_matrix\n",
    "\n",
    "    cm = confusion_matrix(y, y_predict)\n",
    "    ax= plt.subplot()\n",
    "    sns.heatmap(cm, annot=True, ax = ax); #annot=True to annotate cells\n",
    "    ax.set_xlabel('Predicted labels')\n",
    "    ax.set_ylabel('True labels')\n",
    "    ax.set_title('Confusion Matrix'); \n",
    "    ax.xaxis.set_ticklabels(['Did not land', 'Landed']); ax.yaxis.set_ticklabels(['Did not land', 'Landed'])\n"
   ]
  },
  {
   "cell_type": "code",
   "execution_count": 11,
   "metadata": {},
   "outputs": [
    {
     "data": {
      "text/html": [
       "<div>\n",
       "<style scoped>\n",
       "    .dataframe tbody tr th:only-of-type {\n",
       "        vertical-align: middle;\n",
       "    }\n",
       "\n",
       "    .dataframe tbody tr th {\n",
       "        vertical-align: top;\n",
       "    }\n",
       "\n",
       "    .dataframe thead th {\n",
       "        text-align: right;\n",
       "    }\n",
       "</style>\n",
       "<table border=\"1\" class=\"dataframe\">\n",
       "  <thead>\n",
       "    <tr style=\"text-align: right;\">\n",
       "      <th></th>\n",
       "      <th>FlightNumber</th>\n",
       "      <th>Date</th>\n",
       "      <th>BoosterVersion</th>\n",
       "      <th>PayloadMass</th>\n",
       "      <th>Orbit</th>\n",
       "      <th>LaunchSite</th>\n",
       "      <th>Outcome</th>\n",
       "      <th>Flights</th>\n",
       "      <th>GridFins</th>\n",
       "      <th>Reused</th>\n",
       "      <th>Legs</th>\n",
       "      <th>LandingPad</th>\n",
       "      <th>Block</th>\n",
       "      <th>ReusedCount</th>\n",
       "      <th>Serial</th>\n",
       "      <th>Longitude</th>\n",
       "      <th>Latitude</th>\n",
       "      <th>Class</th>\n",
       "    </tr>\n",
       "  </thead>\n",
       "  <tbody>\n",
       "    <tr>\n",
       "      <th>133</th>\n",
       "      <td>135</td>\n",
       "      <td>2022-03-03</td>\n",
       "      <td>Falcon 9</td>\n",
       "      <td>13260.000000</td>\n",
       "      <td>VLEO</td>\n",
       "      <td>KSC LC 39A</td>\n",
       "      <td>True ASDS</td>\n",
       "      <td>11</td>\n",
       "      <td>True</td>\n",
       "      <td>True</td>\n",
       "      <td>True</td>\n",
       "      <td>5e9e3033383ecbb9e534e7cc</td>\n",
       "      <td>5.0</td>\n",
       "      <td>10</td>\n",
       "      <td>B1060</td>\n",
       "      <td>-80.603956</td>\n",
       "      <td>28.608058</td>\n",
       "      <td>1</td>\n",
       "    </tr>\n",
       "    <tr>\n",
       "      <th>134</th>\n",
       "      <td>136</td>\n",
       "      <td>2022-03-09</td>\n",
       "      <td>Falcon 9</td>\n",
       "      <td>13260.000000</td>\n",
       "      <td>VLEO</td>\n",
       "      <td>CCSFS SLC 40</td>\n",
       "      <td>True ASDS</td>\n",
       "      <td>4</td>\n",
       "      <td>True</td>\n",
       "      <td>True</td>\n",
       "      <td>True</td>\n",
       "      <td>5e9e3033383ecb075134e7cd</td>\n",
       "      <td>5.0</td>\n",
       "      <td>3</td>\n",
       "      <td>B1052</td>\n",
       "      <td>-80.577366</td>\n",
       "      <td>28.561857</td>\n",
       "      <td>1</td>\n",
       "    </tr>\n",
       "    <tr>\n",
       "      <th>135</th>\n",
       "      <td>137</td>\n",
       "      <td>2022-03-19</td>\n",
       "      <td>Falcon 9</td>\n",
       "      <td>13260.000000</td>\n",
       "      <td>VLEO</td>\n",
       "      <td>CCSFS SLC 40</td>\n",
       "      <td>True ASDS</td>\n",
       "      <td>12</td>\n",
       "      <td>True</td>\n",
       "      <td>True</td>\n",
       "      <td>True</td>\n",
       "      <td>5e9e3033383ecbb9e534e7cc</td>\n",
       "      <td>5.0</td>\n",
       "      <td>11</td>\n",
       "      <td>B1051</td>\n",
       "      <td>-80.577366</td>\n",
       "      <td>28.561857</td>\n",
       "      <td>1</td>\n",
       "    </tr>\n",
       "    <tr>\n",
       "      <th>136</th>\n",
       "      <td>138</td>\n",
       "      <td>2022-04-01</td>\n",
       "      <td>Falcon 9</td>\n",
       "      <td>7647.061885</td>\n",
       "      <td>SSO</td>\n",
       "      <td>CCSFS SLC 40</td>\n",
       "      <td>True ASDS</td>\n",
       "      <td>7</td>\n",
       "      <td>True</td>\n",
       "      <td>True</td>\n",
       "      <td>True</td>\n",
       "      <td>5e9e3033383ecbb9e534e7cc</td>\n",
       "      <td>5.0</td>\n",
       "      <td>6</td>\n",
       "      <td>B1061</td>\n",
       "      <td>-80.577366</td>\n",
       "      <td>28.561857</td>\n",
       "      <td>1</td>\n",
       "    </tr>\n",
       "    <tr>\n",
       "      <th>137</th>\n",
       "      <td>139</td>\n",
       "      <td>2022-04-08</td>\n",
       "      <td>Falcon 9</td>\n",
       "      <td>7647.061885</td>\n",
       "      <td>ISS</td>\n",
       "      <td>KSC LC 39A</td>\n",
       "      <td>True ASDS</td>\n",
       "      <td>5</td>\n",
       "      <td>True</td>\n",
       "      <td>True</td>\n",
       "      <td>True</td>\n",
       "      <td>5e9e3033383ecb075134e7cd</td>\n",
       "      <td>5.0</td>\n",
       "      <td>4</td>\n",
       "      <td>B1062</td>\n",
       "      <td>-80.603956</td>\n",
       "      <td>28.608058</td>\n",
       "      <td>1</td>\n",
       "    </tr>\n",
       "  </tbody>\n",
       "</table>\n",
       "</div>"
      ],
      "text/plain": [
       "     FlightNumber        Date BoosterVersion   PayloadMass Orbit  \\\n",
       "133           135  2022-03-03       Falcon 9  13260.000000  VLEO   \n",
       "134           136  2022-03-09       Falcon 9  13260.000000  VLEO   \n",
       "135           137  2022-03-19       Falcon 9  13260.000000  VLEO   \n",
       "136           138  2022-04-01       Falcon 9   7647.061885   SSO   \n",
       "137           139  2022-04-08       Falcon 9   7647.061885   ISS   \n",
       "\n",
       "       LaunchSite    Outcome  Flights  GridFins  Reused  Legs  \\\n",
       "133    KSC LC 39A  True ASDS       11      True    True  True   \n",
       "134  CCSFS SLC 40  True ASDS        4      True    True  True   \n",
       "135  CCSFS SLC 40  True ASDS       12      True    True  True   \n",
       "136  CCSFS SLC 40  True ASDS        7      True    True  True   \n",
       "137    KSC LC 39A  True ASDS        5      True    True  True   \n",
       "\n",
       "                   LandingPad  Block  ReusedCount Serial  Longitude  \\\n",
       "133  5e9e3033383ecbb9e534e7cc    5.0           10  B1060 -80.603956   \n",
       "134  5e9e3033383ecb075134e7cd    5.0            3  B1052 -80.577366   \n",
       "135  5e9e3033383ecbb9e534e7cc    5.0           11  B1051 -80.577366   \n",
       "136  5e9e3033383ecbb9e534e7cc    5.0            6  B1061 -80.577366   \n",
       "137  5e9e3033383ecb075134e7cd    5.0            4  B1062 -80.603956   \n",
       "\n",
       "      Latitude  Class  \n",
       "133  28.608058      1  \n",
       "134  28.561857      1  \n",
       "135  28.561857      1  \n",
       "136  28.561857      1  \n",
       "137  28.608058      1  "
      ]
     },
     "execution_count": 11,
     "metadata": {},
     "output_type": "execute_result"
    }
   ],
   "source": [
    "data = pd.read_csv('falcon9_data.csv')\n",
    "\n",
    "X = pd.read_csv('falcon9_onehot.csv')\n",
    "data.tail()"
   ]
  },
  {
   "cell_type": "code",
   "execution_count": 12,
   "metadata": {},
   "outputs": [],
   "source": [
    "#Creating a numpy array from column 'Class'in data, which denotes launch success or failure with 0 or 1\n",
    "Y = data['Class'].to_numpy()\n",
    "\n",
    "#Standardize data in X \n",
    "transform = preprocessing.StandardScaler()\n",
    "X = transform.fit_transform(X)\n",
    "\n",
    "#Split data into training and testing sets\n",
    "X_train, X_test, Y_train, Y_test = train_test_split(X, Y, test_size = 0.2, random_state = 2)\n",
    "\n",
    "parameters ={'C':[0.01,0.1,1],\n",
    "             'penalty':['l2'],\n",
    "             'solver':['lbfgs']}"
   ]
  },
  {
   "cell_type": "code",
   "execution_count": 13,
   "metadata": {},
   "outputs": [
    {
     "name": "stdout",
     "output_type": "stream",
     "text": [
      "Tuned hyperparameters: (best parameters)  {'C': 0.1, 'penalty': 'l2', 'solver': 'lbfgs'}\n",
      "Logistic Regression best accuracy score (Training data):  0.8727272727272727\n",
      "Logistic Regression accuracy (Test data):  0.9285714285714286\n"
     ]
    },
    {
     "data": {
      "image/png": "[encoded data removed]",
      "text/plain": [
       "<Figure size 432x288 with 2 Axes>"
      ]
     },
     "metadata": {
      "needs_background": "light"
     },
     "output_type": "display_data"
    }
   ],
   "source": [
    "#Create logistic regression object, then a GridSearchCV to find best params\n",
    "parameters ={\"C\":[0.01,0.1,1],'penalty':['l2'], 'solver':['lbfgs']}# l1 lasso l2 ridge\n",
    "lr=LogisticRegression()\n",
    "\n",
    "g_scv = GridSearchCV(lr, parameters, scoring = 'accuracy', cv = 10)\n",
    "logreg_cv = g_scv.fit(X_train, Y_train)\n",
    "\n",
    "#Display best parameters\n",
    "print(\"Tuned hyperparameters: (best parameters) \",logreg_cv.best_params_)\n",
    "print(\"Logistic Regression best accuracy score (Training data): \", logreg_cv.best_score_)\n",
    "\n",
    "#Calculate accuracy on test data\n",
    "print(\"Logistic Regression accuracy (Test data): \", logreg_cv.score(X_test, Y_test))\n",
    "\n",
    "#Create and plot confusion matrix for logistic regression\n",
    "yhat=logreg_cv.predict(X_test)\n",
    "#plot_confusion_matrix(Y_test, yhat)\n",
    "ConfusionMatrixDisplay.from_predictions(Y_test, yhat)\n",
    "plt.show()"
   ]
  },
  {
   "cell_type": "code",
   "execution_count": 14,
   "metadata": {},
   "outputs": [
    {
     "name": "stdout",
     "output_type": "stream",
     "text": [
      "Tuned hyperparameters: (best parameters)  {'C': 0.03162277660168379, 'gamma': 0.001, 'kernel': 'linear'}\n",
      "Support Vector Machine best accuracy score (Training data): 0.890909090909091\n",
      "Support Vector Machine accuracy (Test data):  0.9285714285714286\n"
     ]
    },
    {
     "data": {
      "image/png": "[encoded data removed]",
      "text/plain": [
       "<Figure size 432x288 with 2 Axes>"
      ]
     },
     "metadata": {
      "needs_background": "light"
     },
     "output_type": "display_data"
    }
   ],
   "source": [
    "#Create support vector machine, then a GridSearchCV to find best params\n",
    "parameters = {'kernel':('linear', 'rbf','poly','rbf', 'sigmoid'),\n",
    "              'C': np.logspace(-3, 3, 5),\n",
    "              'gamma':np.logspace(-3, 3, 5)}\n",
    "svm = SVC()\n",
    "\n",
    "g_scv = GridSearchCV(svm, parameters, scoring = 'accuracy', cv = 10)\n",
    "svm_cv = g_scv.fit(X_train, Y_train)\n",
    "\n",
    "#Display best parameters\n",
    "print(\"Tuned hyperparameters: (best parameters) \", svm_cv.best_params_)\n",
    "print(\"Support Vector Machine best accuracy score (Training data):\", svm_cv.best_score_)\n",
    "\n",
    "#Calculate accuracy on test data\n",
    "print(\"Support Vector Machine accuracy (Test data): \", svm_cv.score(X_test, Y_test))\n",
    "\n",
    "#Create and plot confusion matrix for SVM\n",
    "yhat=svm_cv.predict(X_test)\n",
    "plot_confusion_matrix(Y_test, yhat)"
   ]
  },
  {
   "cell_type": "code",
   "execution_count": 15,
   "metadata": {},
   "outputs": [
    {
     "name": "stdout",
     "output_type": "stream",
     "text": [
      "Tuned hyperparameters: (best parameters)  {'criterion': 'gini', 'max_depth': 14, 'max_features': 'sqrt', 'min_samples_leaf': 2, 'min_samples_split': 2, 'splitter': 'best'}\n",
      "Decision Tree best accuracy score (Training data) : 0.9\n",
      "Decision Tree accuracy (Test Data):  0.7857142857142857\n"
     ]
    },
    {
     "data": {
      "image/png": "[encoded data removed]",
      "text/plain": [
       "<Figure size 432x288 with 2 Axes>"
      ]
     },
     "metadata": {
      "needs_background": "light"
     },
     "output_type": "display_data"
    }
   ],
   "source": [
    "#Create decision tree classifier, then a GridSearchCV to find best params\n",
    "parameters = {'criterion': ['gini', 'entropy'],\n",
    "     'splitter': ['best', 'random'],\n",
    "     'max_depth': [2*n for n in range(1,10)],\n",
    "     'max_features': ['auto', 'sqrt'],\n",
    "     'min_samples_leaf': [1, 2, 4],\n",
    "     'min_samples_split': [2, 5, 10]}\n",
    "\n",
    "tree = DecisionTreeClassifier()\n",
    "\n",
    "g_scv = GridSearchCV(tree, parameters, scoring = 'accuracy', cv = 10)\n",
    "tree_cv = g_scv.fit(X_train, Y_train)\n",
    "\n",
    "#Display best parameters\n",
    "print(\"Tuned hyperparameters: (best parameters) \", tree_cv.best_params_)\n",
    "print(\"Decision Tree best accuracy score (Training data) :\", tree_cv.best_score_)\n",
    "\n",
    "#Calculate accuracy on test data\n",
    "print(\"Decision Tree accuracy (Test Data): \", tree_cv.score(X_test, Y_test))\n",
    "\n",
    "#Create and plot confusion matrix for decision tree\n",
    "yhat = tree_cv.predict(X_test)\n",
    "plot_confusion_matrix(Y_test, yhat)"
   ]
  },
  {
   "cell_type": "code",
   "execution_count": 16,
   "metadata": {},
   "outputs": [
    {
     "name": "stdout",
     "output_type": "stream",
     "text": [
      "Tuned hyperparameters: (best parameters)  {'algorithm': 'auto', 'n_neighbors': 5, 'p': 1}\n",
      "KNN best accuracy score (Training data) : 0.8727272727272727\n",
      "KNN accuracy (Test data):  0.8928571428571429\n"
     ]
    },
    {
     "data": {
      "image/png": "[encoded data removed]",
      "text/plain": [
       "<Figure size 432x288 with 2 Axes>"
      ]
     },
     "metadata": {
      "needs_background": "light"
     },
     "output_type": "display_data"
    }
   ],
   "source": [
    "#Create KNN classifier, then a GridSearchCV to find best params\n",
    "parameters = {'n_neighbors': [1, 2, 3, 4, 5, 6, 7, 8, 9, 10],\n",
    "              'algorithm': ['auto', 'ball_tree', 'kd_tree', 'brute'],\n",
    "              'p': [1,2]}\n",
    "\n",
    "KNN = KNeighborsClassifier()\n",
    "\n",
    "g_scv = GridSearchCV(KNN, parameters, scoring = 'accuracy', cv = 10)\n",
    "knn_cv = g_scv.fit(X_train, Y_train)\n",
    "\n",
    "#Display best parameters\n",
    "print(\"Tuned hyperparameters: (best parameters) \", knn_cv.best_params_)\n",
    "print(\"KNN best accuracy score (Training data) :\", knn_cv.best_score_)\n",
    "\n",
    "#Calculate accuracy on test data\n",
    "print(\"KNN accuracy (Test data): \", knn_cv.score(X_test, Y_test))\n",
    "\n",
    "#Create and plot confusion matrix for KNN\n",
    "yhat = knn_cv.predict(X_test)\n",
    "plot_confusion_matrix(Y_test, yhat)"
   ]
  }
 ],
 "metadata": {
  "interpreter": {
   "hash": "916dbcbb3f70747c44a77c7bcd40155683ae19c65e1c03b4aa3499c5328201f1"
  },
  "kernelspec": {
   "display_name": "Python 3.8.10 64-bit",
   "language": "python",
   "name": "python3"
  },
  "language_info": {
   "codemirror_mode": {
    "name": "ipython",
    "version": 3
   },
   "file_extension": ".py",
   "mimetype": "text/x-python",
   "name": "python",
   "nbconvert_exporter": "python",
   "pygments_lexer": "ipython3",
   "version": "3.8.10"
  },
  "orig_nbformat": 4
 },
 "nbformat": 4,
 "nbformat_minor": 2
}
